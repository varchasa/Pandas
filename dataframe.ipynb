{
 "cells": [
  {
   "cell_type": "code",
   "execution_count": 1,
   "metadata": {},
   "outputs": [],
   "source": [
    "import pandas as pd\n",
    "import numpy as np"
   ]
  },
  {
   "cell_type": "markdown",
   "metadata": {},
   "source": [
    "# Creating dataframe objects"
   ]
  },
  {
   "cell_type": "code",
   "execution_count": 2,
   "metadata": {},
   "outputs": [
    {
     "data": {
      "text/plain": [
       "array([[3, 5, 0],\n",
       "       [2, 4, 3],\n",
       "       [7, 6, 1],\n",
       "       [1, 1, 5],\n",
       "       [7, 2, 9]])"
      ]
     },
     "execution_count": 2,
     "metadata": {},
     "output_type": "execute_result"
    }
   ],
   "source": [
    "arr = np.random.randint(0,10,(5,3))\n",
    "arr"
   ]
  },
  {
   "cell_type": "code",
   "execution_count": 3,
   "metadata": {},
   "outputs": [],
   "source": [
    "df = pd.DataFrame(arr) #creating dataframe of arr"
   ]
  },
  {
   "cell_type": "code",
   "execution_count": 4,
   "metadata": {},
   "outputs": [
    {
     "data": {
      "text/html": [
       "<div>\n",
       "<style scoped>\n",
       "    .dataframe tbody tr th:only-of-type {\n",
       "        vertical-align: middle;\n",
       "    }\n",
       "\n",
       "    .dataframe tbody tr th {\n",
       "        vertical-align: top;\n",
       "    }\n",
       "\n",
       "    .dataframe thead th {\n",
       "        text-align: right;\n",
       "    }\n",
       "</style>\n",
       "<table border=\"1\" class=\"dataframe\">\n",
       "  <thead>\n",
       "    <tr style=\"text-align: right;\">\n",
       "      <th></th>\n",
       "      <th>0</th>\n",
       "      <th>1</th>\n",
       "      <th>2</th>\n",
       "    </tr>\n",
       "  </thead>\n",
       "  <tbody>\n",
       "    <tr>\n",
       "      <th>0</th>\n",
       "      <td>3</td>\n",
       "      <td>5</td>\n",
       "      <td>0</td>\n",
       "    </tr>\n",
       "    <tr>\n",
       "      <th>1</th>\n",
       "      <td>2</td>\n",
       "      <td>4</td>\n",
       "      <td>3</td>\n",
       "    </tr>\n",
       "    <tr>\n",
       "      <th>2</th>\n",
       "      <td>7</td>\n",
       "      <td>6</td>\n",
       "      <td>1</td>\n",
       "    </tr>\n",
       "    <tr>\n",
       "      <th>3</th>\n",
       "      <td>1</td>\n",
       "      <td>1</td>\n",
       "      <td>5</td>\n",
       "    </tr>\n",
       "    <tr>\n",
       "      <th>4</th>\n",
       "      <td>7</td>\n",
       "      <td>2</td>\n",
       "      <td>9</td>\n",
       "    </tr>\n",
       "  </tbody>\n",
       "</table>\n",
       "</div>"
      ],
      "text/plain": [
       "   0  1  2\n",
       "0  3  5  0\n",
       "1  2  4  3\n",
       "2  7  6  1\n",
       "3  1  1  5\n",
       "4  7  2  9"
      ]
     },
     "execution_count": 4,
     "metadata": {},
     "output_type": "execute_result"
    }
   ],
   "source": [
    "df"
   ]
  },
  {
   "cell_type": "code",
   "execution_count": 5,
   "metadata": {},
   "outputs": [
    {
     "data": {
      "text/plain": [
       "array([[3, 5, 0],\n",
       "       [2, 4, 3],\n",
       "       [7, 6, 1],\n",
       "       [1, 1, 5],\n",
       "       [7, 2, 9]])"
      ]
     },
     "execution_count": 5,
     "metadata": {},
     "output_type": "execute_result"
    }
   ],
   "source": [
    "df.values #printing dataframe in form of an array"
   ]
  },
  {
   "cell_type": "code",
   "execution_count": 6,
   "metadata": {},
   "outputs": [
    {
     "data": {
      "text/plain": [
       "RangeIndex(start=0, stop=5, step=1)"
      ]
     },
     "execution_count": 6,
     "metadata": {},
     "output_type": "execute_result"
    }
   ],
   "source": [
    "df.index #range of index"
   ]
  },
  {
   "cell_type": "code",
   "execution_count": 7,
   "metadata": {},
   "outputs": [
    {
     "data": {
      "text/plain": [
       "RangeIndex(start=0, stop=3, step=1)"
      ]
     },
     "execution_count": 7,
     "metadata": {},
     "output_type": "execute_result"
    }
   ],
   "source": [
    "df.columns #range of columns "
   ]
  },
  {
   "cell_type": "code",
   "execution_count": 8,
   "metadata": {},
   "outputs": [
    {
     "name": "stdout",
     "output_type": "stream",
     "text": [
      "0\n",
      "1\n",
      "2\n"
     ]
    }
   ],
   "source": [
    "for c in df.columns:\n",
    "    print(c)"
   ]
  },
  {
   "cell_type": "code",
   "execution_count": 9,
   "metadata": {},
   "outputs": [
    {
     "data": {
      "text/plain": [
       "array([2, 4, 3])"
      ]
     },
     "execution_count": 9,
     "metadata": {},
     "output_type": "execute_result"
    }
   ],
   "source": [
    "df.values[1]"
   ]
  },
  {
   "cell_type": "code",
   "execution_count": 10,
   "metadata": {},
   "outputs": [],
   "source": [
    "df.index = ['R1', 'R2', 'R3', 'R4', 'R5']\n",
    "df.columns = ['C1', 'C2', 'C3'] #defining columns and indexs"
   ]
  },
  {
   "cell_type": "code",
   "execution_count": 11,
   "metadata": {},
   "outputs": [
    {
     "data": {
      "text/html": [
       "<div>\n",
       "<style scoped>\n",
       "    .dataframe tbody tr th:only-of-type {\n",
       "        vertical-align: middle;\n",
       "    }\n",
       "\n",
       "    .dataframe tbody tr th {\n",
       "        vertical-align: top;\n",
       "    }\n",
       "\n",
       "    .dataframe thead th {\n",
       "        text-align: right;\n",
       "    }\n",
       "</style>\n",
       "<table border=\"1\" class=\"dataframe\">\n",
       "  <thead>\n",
       "    <tr style=\"text-align: right;\">\n",
       "      <th></th>\n",
       "      <th>C1</th>\n",
       "      <th>C2</th>\n",
       "      <th>C3</th>\n",
       "    </tr>\n",
       "  </thead>\n",
       "  <tbody>\n",
       "    <tr>\n",
       "      <th>R1</th>\n",
       "      <td>3</td>\n",
       "      <td>5</td>\n",
       "      <td>0</td>\n",
       "    </tr>\n",
       "    <tr>\n",
       "      <th>R2</th>\n",
       "      <td>2</td>\n",
       "      <td>4</td>\n",
       "      <td>3</td>\n",
       "    </tr>\n",
       "    <tr>\n",
       "      <th>R3</th>\n",
       "      <td>7</td>\n",
       "      <td>6</td>\n",
       "      <td>1</td>\n",
       "    </tr>\n",
       "    <tr>\n",
       "      <th>R4</th>\n",
       "      <td>1</td>\n",
       "      <td>1</td>\n",
       "      <td>5</td>\n",
       "    </tr>\n",
       "    <tr>\n",
       "      <th>R5</th>\n",
       "      <td>7</td>\n",
       "      <td>2</td>\n",
       "      <td>9</td>\n",
       "    </tr>\n",
       "  </tbody>\n",
       "</table>\n",
       "</div>"
      ],
      "text/plain": [
       "    C1  C2  C3\n",
       "R1   3   5   0\n",
       "R2   2   4   3\n",
       "R3   7   6   1\n",
       "R4   1   1   5\n",
       "R5   7   2   9"
      ]
     },
     "execution_count": 11,
     "metadata": {},
     "output_type": "execute_result"
    }
   ],
   "source": [
    "df"
   ]
  },
  {
   "cell_type": "code",
   "execution_count": 12,
   "metadata": {},
   "outputs": [
    {
     "data": {
      "text/plain": [
       "3"
      ]
     },
     "execution_count": 12,
     "metadata": {},
     "output_type": "execute_result"
    }
   ],
   "source": [
    "df.loc['R2','C3']"
   ]
  },
  {
   "cell_type": "code",
   "execution_count": 13,
   "metadata": {},
   "outputs": [
    {
     "data": {
      "text/plain": [
       "3"
      ]
     },
     "execution_count": 13,
     "metadata": {},
     "output_type": "execute_result"
    }
   ],
   "source": [
    "df.iloc[1,2]"
   ]
  },
  {
   "cell_type": "code",
   "execution_count": 14,
   "metadata": {},
   "outputs": [
    {
     "data": {
      "text/html": [
       "<div>\n",
       "<style scoped>\n",
       "    .dataframe tbody tr th:only-of-type {\n",
       "        vertical-align: middle;\n",
       "    }\n",
       "\n",
       "    .dataframe tbody tr th {\n",
       "        vertical-align: top;\n",
       "    }\n",
       "\n",
       "    .dataframe thead th {\n",
       "        text-align: right;\n",
       "    }\n",
       "</style>\n",
       "<table border=\"1\" class=\"dataframe\">\n",
       "  <thead>\n",
       "    <tr style=\"text-align: right;\">\n",
       "      <th></th>\n",
       "      <th>C2</th>\n",
       "      <th>C3</th>\n",
       "    </tr>\n",
       "  </thead>\n",
       "  <tbody>\n",
       "    <tr>\n",
       "      <th>R3</th>\n",
       "      <td>6</td>\n",
       "      <td>1</td>\n",
       "    </tr>\n",
       "    <tr>\n",
       "      <th>R4</th>\n",
       "      <td>1</td>\n",
       "      <td>5</td>\n",
       "    </tr>\n",
       "    <tr>\n",
       "      <th>R5</th>\n",
       "      <td>2</td>\n",
       "      <td>9</td>\n",
       "    </tr>\n",
       "  </tbody>\n",
       "</table>\n",
       "</div>"
      ],
      "text/plain": [
       "    C2  C3\n",
       "R3   6   1\n",
       "R4   1   5\n",
       "R5   2   9"
      ]
     },
     "execution_count": 14,
     "metadata": {},
     "output_type": "execute_result"
    }
   ],
   "source": [
    "df.loc['R3':'R5', 'C2':'C3']"
   ]
  },
  {
   "cell_type": "code",
   "execution_count": 15,
   "metadata": {},
   "outputs": [
    {
     "data": {
      "text/plain": [
       "C1    3\n",
       "C2    5\n",
       "C3    0\n",
       "Name: R1, dtype: int32"
      ]
     },
     "execution_count": 15,
     "metadata": {},
     "output_type": "execute_result"
    }
   ],
   "source": [
    "df.iloc[0]"
   ]
  },
  {
   "cell_type": "code",
   "execution_count": 16,
   "metadata": {},
   "outputs": [
    {
     "data": {
      "text/plain": [
       "R1    3\n",
       "R2    2\n",
       "R3    7\n",
       "R4    1\n",
       "R5    7\n",
       "Name: C1, dtype: int32"
      ]
     },
     "execution_count": 16,
     "metadata": {},
     "output_type": "execute_result"
    }
   ],
   "source": [
    "df.iloc[:,0]"
   ]
  },
  {
   "cell_type": "code",
   "execution_count": 17,
   "metadata": {},
   "outputs": [
    {
     "data": {
      "text/plain": [
       "(5, 3)"
      ]
     },
     "execution_count": 17,
     "metadata": {},
     "output_type": "execute_result"
    }
   ],
   "source": [
    "df.shape"
   ]
  },
  {
   "cell_type": "code",
   "execution_count": 18,
   "metadata": {},
   "outputs": [
    {
     "data": {
      "text/html": [
       "<div>\n",
       "<style scoped>\n",
       "    .dataframe tbody tr th:only-of-type {\n",
       "        vertical-align: middle;\n",
       "    }\n",
       "\n",
       "    .dataframe tbody tr th {\n",
       "        vertical-align: top;\n",
       "    }\n",
       "\n",
       "    .dataframe thead th {\n",
       "        text-align: right;\n",
       "    }\n",
       "</style>\n",
       "<table border=\"1\" class=\"dataframe\">\n",
       "  <thead>\n",
       "    <tr style=\"text-align: right;\">\n",
       "      <th></th>\n",
       "      <th>R1</th>\n",
       "      <th>R2</th>\n",
       "      <th>R3</th>\n",
       "      <th>R4</th>\n",
       "      <th>R5</th>\n",
       "    </tr>\n",
       "  </thead>\n",
       "  <tbody>\n",
       "    <tr>\n",
       "      <th>C1</th>\n",
       "      <td>3</td>\n",
       "      <td>2</td>\n",
       "      <td>7</td>\n",
       "      <td>1</td>\n",
       "      <td>7</td>\n",
       "    </tr>\n",
       "    <tr>\n",
       "      <th>C2</th>\n",
       "      <td>5</td>\n",
       "      <td>4</td>\n",
       "      <td>6</td>\n",
       "      <td>1</td>\n",
       "      <td>2</td>\n",
       "    </tr>\n",
       "    <tr>\n",
       "      <th>C3</th>\n",
       "      <td>0</td>\n",
       "      <td>3</td>\n",
       "      <td>1</td>\n",
       "      <td>5</td>\n",
       "      <td>9</td>\n",
       "    </tr>\n",
       "  </tbody>\n",
       "</table>\n",
       "</div>"
      ],
      "text/plain": [
       "    R1  R2  R3  R4  R5\n",
       "C1   3   2   7   1   7\n",
       "C2   5   4   6   1   2\n",
       "C3   0   3   1   5   9"
      ]
     },
     "execution_count": 18,
     "metadata": {},
     "output_type": "execute_result"
    }
   ],
   "source": [
    "df.T #transform the dataframe "
   ]
  },
  {
   "cell_type": "code",
   "execution_count": 19,
   "metadata": {},
   "outputs": [],
   "source": [
    "mass = pd.Series([0.33, 4.87, 5.97, 0.642, 1898, 568, 86.8, 102, 0.0146], \n",
    "                 index=['Mercury', 'Venus', 'Earth', 'Mars', 'Jupiter', 'Saturn', 'Uranus', 'Neptune', 'Pluto'])\n",
    "diameter = pd.Series([4879, 12104, 12756, 3475, 6792, 142984, 120536, 51118, 49528, 2370], \n",
    "                     index=['Mercury', 'Venus', 'Earth', 'Moon', 'Mars', 'Jupiter', 'Saturn', 'Uranus', 'Neptune', 'Pluto'])"
   ]
  },
  {
   "cell_type": "code",
   "execution_count": 20,
   "metadata": {},
   "outputs": [
    {
     "data": {
      "text/plain": [
       "Mercury       0.3300\n",
       "Venus         4.8700\n",
       "Earth         5.9700\n",
       "Mars          0.6420\n",
       "Jupiter    1898.0000\n",
       "Saturn      568.0000\n",
       "Uranus       86.8000\n",
       "Neptune     102.0000\n",
       "Pluto         0.0146\n",
       "dtype: float64"
      ]
     },
     "execution_count": 20,
     "metadata": {},
     "output_type": "execute_result"
    }
   ],
   "source": [
    "mass"
   ]
  },
  {
   "cell_type": "code",
   "execution_count": 21,
   "metadata": {},
   "outputs": [
    {
     "data": {
      "text/plain": [
       "Mercury      4879\n",
       "Venus       12104\n",
       "Earth       12756\n",
       "Moon         3475\n",
       "Mars         6792\n",
       "Jupiter    142984\n",
       "Saturn     120536\n",
       "Uranus      51118\n",
       "Neptune     49528\n",
       "Pluto        2370\n",
       "dtype: int64"
      ]
     },
     "execution_count": 21,
     "metadata": {},
     "output_type": "execute_result"
    }
   ],
   "source": [
    "diameter "
   ]
  },
  {
   "cell_type": "code",
   "execution_count": 22,
   "metadata": {},
   "outputs": [
    {
     "data": {
      "text/html": [
       "<div>\n",
       "<style scoped>\n",
       "    .dataframe tbody tr th:only-of-type {\n",
       "        vertical-align: middle;\n",
       "    }\n",
       "\n",
       "    .dataframe tbody tr th {\n",
       "        vertical-align: top;\n",
       "    }\n",
       "\n",
       "    .dataframe thead th {\n",
       "        text-align: right;\n",
       "    }\n",
       "</style>\n",
       "<table border=\"1\" class=\"dataframe\">\n",
       "  <thead>\n",
       "    <tr style=\"text-align: right;\">\n",
       "      <th></th>\n",
       "      <th>Mass</th>\n",
       "      <th>Diameter</th>\n",
       "    </tr>\n",
       "  </thead>\n",
       "  <tbody>\n",
       "    <tr>\n",
       "      <th>Earth</th>\n",
       "      <td>5.9700</td>\n",
       "      <td>12756</td>\n",
       "    </tr>\n",
       "    <tr>\n",
       "      <th>Jupiter</th>\n",
       "      <td>1898.0000</td>\n",
       "      <td>142984</td>\n",
       "    </tr>\n",
       "    <tr>\n",
       "      <th>Mars</th>\n",
       "      <td>0.6420</td>\n",
       "      <td>6792</td>\n",
       "    </tr>\n",
       "    <tr>\n",
       "      <th>Mercury</th>\n",
       "      <td>0.3300</td>\n",
       "      <td>4879</td>\n",
       "    </tr>\n",
       "    <tr>\n",
       "      <th>Moon</th>\n",
       "      <td>NaN</td>\n",
       "      <td>3475</td>\n",
       "    </tr>\n",
       "    <tr>\n",
       "      <th>Neptune</th>\n",
       "      <td>102.0000</td>\n",
       "      <td>49528</td>\n",
       "    </tr>\n",
       "    <tr>\n",
       "      <th>Pluto</th>\n",
       "      <td>0.0146</td>\n",
       "      <td>2370</td>\n",
       "    </tr>\n",
       "    <tr>\n",
       "      <th>Saturn</th>\n",
       "      <td>568.0000</td>\n",
       "      <td>120536</td>\n",
       "    </tr>\n",
       "    <tr>\n",
       "      <th>Uranus</th>\n",
       "      <td>86.8000</td>\n",
       "      <td>51118</td>\n",
       "    </tr>\n",
       "    <tr>\n",
       "      <th>Venus</th>\n",
       "      <td>4.8700</td>\n",
       "      <td>12104</td>\n",
       "    </tr>\n",
       "  </tbody>\n",
       "</table>\n",
       "</div>"
      ],
      "text/plain": [
       "              Mass  Diameter\n",
       "Earth       5.9700     12756\n",
       "Jupiter  1898.0000    142984\n",
       "Mars        0.6420      6792\n",
       "Mercury     0.3300      4879\n",
       "Moon           NaN      3475\n",
       "Neptune   102.0000     49528\n",
       "Pluto       0.0146      2370\n",
       "Saturn    568.0000    120536\n",
       "Uranus     86.8000     51118\n",
       "Venus       4.8700     12104"
      ]
     },
     "execution_count": 22,
     "metadata": {},
     "output_type": "execute_result"
    }
   ],
   "source": [
    "df=pd.DataFrame({'Mass':mass,'Diameter':diameter})\n",
    "df"
   ]
  },
  {
   "cell_type": "code",
   "execution_count": 23,
   "metadata": {},
   "outputs": [
    {
     "data": {
      "text/plain": [
       "Earth         5.9700\n",
       "Jupiter    1898.0000\n",
       "Mars          0.6420\n",
       "Mercury       0.3300\n",
       "Moon             NaN\n",
       "Neptune     102.0000\n",
       "Pluto         0.0146\n",
       "Saturn      568.0000\n",
       "Uranus       86.8000\n",
       "Venus         4.8700\n",
       "Name: Mass, dtype: float64"
      ]
     },
     "execution_count": 23,
     "metadata": {},
     "output_type": "execute_result"
    }
   ],
   "source": [
    "df['Mass']#printing only Mass column "
   ]
  },
  {
   "cell_type": "code",
   "execution_count": 24,
   "metadata": {},
   "outputs": [
    {
     "data": {
      "text/plain": [
       "Earth       12756\n",
       "Jupiter    142984\n",
       "Mars         6792\n",
       "Mercury      4879\n",
       "Moon         3475\n",
       "Neptune     49528\n",
       "Pluto        2370\n",
       "Saturn     120536\n",
       "Uranus      51118\n",
       "Venus       12104\n",
       "Name: Diameter, dtype: int64"
      ]
     },
     "execution_count": 24,
     "metadata": {},
     "output_type": "execute_result"
    }
   ],
   "source": [
    "df['Diameter']"
   ]
  },
  {
   "cell_type": "code",
   "execution_count": 25,
   "metadata": {},
   "outputs": [
    {
     "data": {
      "text/plain": [
       "5.97"
      ]
     },
     "execution_count": 25,
     "metadata": {},
     "output_type": "execute_result"
    }
   ],
   "source": [
    "df['Mass']['Earth'] #getting the mass of earth"
   ]
  },
  {
   "cell_type": "code",
   "execution_count": 26,
   "metadata": {},
   "outputs": [
    {
     "data": {
      "text/plain": [
       "5.97"
      ]
     },
     "execution_count": 26,
     "metadata": {},
     "output_type": "execute_result"
    }
   ],
   "source": [
    "df.Mass.Earth #alternative way"
   ]
  },
  {
   "cell_type": "code",
   "execution_count": 27,
   "metadata": {},
   "outputs": [
    {
     "data": {
      "text/html": [
       "<div>\n",
       "<style scoped>\n",
       "    .dataframe tbody tr th:only-of-type {\n",
       "        vertical-align: middle;\n",
       "    }\n",
       "\n",
       "    .dataframe tbody tr th {\n",
       "        vertical-align: top;\n",
       "    }\n",
       "\n",
       "    .dataframe thead th {\n",
       "        text-align: right;\n",
       "    }\n",
       "</style>\n",
       "<table border=\"1\" class=\"dataframe\">\n",
       "  <thead>\n",
       "    <tr style=\"text-align: right;\">\n",
       "      <th></th>\n",
       "      <th>Mass</th>\n",
       "      <th>Diameter</th>\n",
       "      <th>pop</th>\n",
       "    </tr>\n",
       "  </thead>\n",
       "  <tbody>\n",
       "    <tr>\n",
       "      <th>Earth</th>\n",
       "      <td>5.9700</td>\n",
       "      <td>12756</td>\n",
       "      <td>0</td>\n",
       "    </tr>\n",
       "    <tr>\n",
       "      <th>Jupiter</th>\n",
       "      <td>1898.0000</td>\n",
       "      <td>142984</td>\n",
       "      <td>0</td>\n",
       "    </tr>\n",
       "    <tr>\n",
       "      <th>Mars</th>\n",
       "      <td>0.6420</td>\n",
       "      <td>6792</td>\n",
       "      <td>0</td>\n",
       "    </tr>\n",
       "    <tr>\n",
       "      <th>Mercury</th>\n",
       "      <td>0.3300</td>\n",
       "      <td>4879</td>\n",
       "      <td>0</td>\n",
       "    </tr>\n",
       "    <tr>\n",
       "      <th>Moon</th>\n",
       "      <td>NaN</td>\n",
       "      <td>3475</td>\n",
       "      <td>0</td>\n",
       "    </tr>\n",
       "    <tr>\n",
       "      <th>Neptune</th>\n",
       "      <td>102.0000</td>\n",
       "      <td>49528</td>\n",
       "      <td>0</td>\n",
       "    </tr>\n",
       "    <tr>\n",
       "      <th>Pluto</th>\n",
       "      <td>0.0146</td>\n",
       "      <td>2370</td>\n",
       "      <td>0</td>\n",
       "    </tr>\n",
       "    <tr>\n",
       "      <th>Saturn</th>\n",
       "      <td>568.0000</td>\n",
       "      <td>120536</td>\n",
       "      <td>0</td>\n",
       "    </tr>\n",
       "    <tr>\n",
       "      <th>Uranus</th>\n",
       "      <td>86.8000</td>\n",
       "      <td>51118</td>\n",
       "      <td>0</td>\n",
       "    </tr>\n",
       "    <tr>\n",
       "      <th>Venus</th>\n",
       "      <td>4.8700</td>\n",
       "      <td>12104</td>\n",
       "      <td>0</td>\n",
       "    </tr>\n",
       "  </tbody>\n",
       "</table>\n",
       "</div>"
      ],
      "text/plain": [
       "              Mass  Diameter  pop\n",
       "Earth       5.9700     12756    0\n",
       "Jupiter  1898.0000    142984    0\n",
       "Mars        0.6420      6792    0\n",
       "Mercury     0.3300      4879    0\n",
       "Moon           NaN      3475    0\n",
       "Neptune   102.0000     49528    0\n",
       "Pluto       0.0146      2370    0\n",
       "Saturn    568.0000    120536    0\n",
       "Uranus     86.8000     51118    0\n",
       "Venus       4.8700     12104    0"
      ]
     },
     "execution_count": 27,
     "metadata": {},
     "output_type": "execute_result"
    }
   ],
   "source": [
    "df['pop']=0 #adding 3rd column \n",
    "df"
   ]
  },
  {
   "cell_type": "code",
   "execution_count": 28,
   "metadata": {},
   "outputs": [
    {
     "name": "stderr",
     "output_type": "stream",
     "text": [
      "C:\\Users\\Varchasa Aggarwal\\AppData\\Local\\Programs\\Python\\Python36\\Lib\\site-packages\\ipykernel_launcher.py:1: SettingWithCopyWarning: \n",
      "A value is trying to be set on a copy of a slice from a DataFrame\n",
      "\n",
      "See the caveats in the documentation: https://pandas.pydata.org/pandas-docs/stable/user_guide/indexing.html#returning-a-view-versus-a-copy\n",
      "  \"\"\"Entry point for launching an IPython kernel.\n",
      "C:\\Users\\Varchasa Aggarwal\\AppData\\Local\\Programs\\Python\\Python36\\Lib\\site-packages\\ipykernel_launcher.py:2: SettingWithCopyWarning: \n",
      "A value is trying to be set on a copy of a slice from a DataFrame\n",
      "\n",
      "See the caveats in the documentation: https://pandas.pydata.org/pandas-docs/stable/user_guide/indexing.html#returning-a-view-versus-a-copy\n",
      "  \n",
      "C:\\Users\\Varchasa Aggarwal\\AppData\\Local\\Programs\\Python\\Python36\\Lib\\site-packages\\ipykernel_launcher.py:3: SettingWithCopyWarning: \n",
      "A value is trying to be set on a copy of a slice from a DataFrame\n",
      "\n",
      "See the caveats in the documentation: https://pandas.pydata.org/pandas-docs/stable/user_guide/indexing.html#returning-a-view-versus-a-copy\n",
      "  This is separate from the ipykernel package so we can avoid doing imports until\n"
     ]
    }
   ],
   "source": [
    "df['pop']['Earth'] = 800\n",
    "df['pop']['Jupiter'] = 800\n",
    "df['pop']['Mars'] = 800 #adding values to pop column "
   ]
  },
  {
   "cell_type": "code",
   "execution_count": 29,
   "metadata": {},
   "outputs": [
    {
     "data": {
      "text/html": [
       "<div>\n",
       "<style scoped>\n",
       "    .dataframe tbody tr th:only-of-type {\n",
       "        vertical-align: middle;\n",
       "    }\n",
       "\n",
       "    .dataframe tbody tr th {\n",
       "        vertical-align: top;\n",
       "    }\n",
       "\n",
       "    .dataframe thead th {\n",
       "        text-align: right;\n",
       "    }\n",
       "</style>\n",
       "<table border=\"1\" class=\"dataframe\">\n",
       "  <thead>\n",
       "    <tr style=\"text-align: right;\">\n",
       "      <th></th>\n",
       "      <th>Mass</th>\n",
       "      <th>Diameter</th>\n",
       "      <th>pop</th>\n",
       "    </tr>\n",
       "  </thead>\n",
       "  <tbody>\n",
       "    <tr>\n",
       "      <th>Earth</th>\n",
       "      <td>5.9700</td>\n",
       "      <td>12756</td>\n",
       "      <td>800</td>\n",
       "    </tr>\n",
       "    <tr>\n",
       "      <th>Jupiter</th>\n",
       "      <td>1898.0000</td>\n",
       "      <td>142984</td>\n",
       "      <td>800</td>\n",
       "    </tr>\n",
       "    <tr>\n",
       "      <th>Mars</th>\n",
       "      <td>0.6420</td>\n",
       "      <td>6792</td>\n",
       "      <td>800</td>\n",
       "    </tr>\n",
       "    <tr>\n",
       "      <th>Mercury</th>\n",
       "      <td>0.3300</td>\n",
       "      <td>4879</td>\n",
       "      <td>0</td>\n",
       "    </tr>\n",
       "    <tr>\n",
       "      <th>Moon</th>\n",
       "      <td>NaN</td>\n",
       "      <td>3475</td>\n",
       "      <td>0</td>\n",
       "    </tr>\n",
       "    <tr>\n",
       "      <th>Neptune</th>\n",
       "      <td>102.0000</td>\n",
       "      <td>49528</td>\n",
       "      <td>0</td>\n",
       "    </tr>\n",
       "    <tr>\n",
       "      <th>Pluto</th>\n",
       "      <td>0.0146</td>\n",
       "      <td>2370</td>\n",
       "      <td>0</td>\n",
       "    </tr>\n",
       "    <tr>\n",
       "      <th>Saturn</th>\n",
       "      <td>568.0000</td>\n",
       "      <td>120536</td>\n",
       "      <td>0</td>\n",
       "    </tr>\n",
       "    <tr>\n",
       "      <th>Uranus</th>\n",
       "      <td>86.8000</td>\n",
       "      <td>51118</td>\n",
       "      <td>0</td>\n",
       "    </tr>\n",
       "    <tr>\n",
       "      <th>Venus</th>\n",
       "      <td>4.8700</td>\n",
       "      <td>12104</td>\n",
       "      <td>0</td>\n",
       "    </tr>\n",
       "  </tbody>\n",
       "</table>\n",
       "</div>"
      ],
      "text/plain": [
       "              Mass  Diameter  pop\n",
       "Earth       5.9700     12756  800\n",
       "Jupiter  1898.0000    142984  800\n",
       "Mars        0.6420      6792  800\n",
       "Mercury     0.3300      4879    0\n",
       "Moon           NaN      3475    0\n",
       "Neptune   102.0000     49528    0\n",
       "Pluto       0.0146      2370    0\n",
       "Saturn    568.0000    120536    0\n",
       "Uranus     86.8000     51118    0\n",
       "Venus       4.8700     12104    0"
      ]
     },
     "execution_count": 29,
     "metadata": {},
     "output_type": "execute_result"
    }
   ],
   "source": [
    "df"
   ]
  },
  {
   "cell_type": "code",
   "execution_count": 30,
   "metadata": {},
   "outputs": [
    {
     "data": {
      "text/plain": [
       "True"
      ]
     },
     "execution_count": 30,
     "metadata": {},
     "output_type": "execute_result"
    }
   ],
   "source": [
    "df['Mass'] is df.Mass"
   ]
  },
  {
   "cell_type": "code",
   "execution_count": 31,
   "metadata": {},
   "outputs": [
    {
     "data": {
      "text/plain": [
       "False"
      ]
     },
     "execution_count": 31,
     "metadata": {},
     "output_type": "execute_result"
    }
   ],
   "source": [
    "df['pop'] is df.pop"
   ]
  },
  {
   "cell_type": "code",
   "execution_count": 32,
   "metadata": {},
   "outputs": [
    {
     "data": {
      "text/plain": [
       "Mass            5.97\n",
       "Diameter    12756.00\n",
       "pop           800.00\n",
       "Name: Earth, dtype: float64"
      ]
     },
     "execution_count": 32,
     "metadata": {},
     "output_type": "execute_result"
    }
   ],
   "source": [
    "df.loc['Earth']"
   ]
  },
  {
   "cell_type": "code",
   "execution_count": 33,
   "metadata": {},
   "outputs": [
    {
     "data": {
      "text/plain": [
       "Earth         5.9700\n",
       "Jupiter    1898.0000\n",
       "Mars          0.6420\n",
       "Mercury       0.3300\n",
       "Moon             NaN\n",
       "Neptune     102.0000\n",
       "Pluto         0.0146\n",
       "Saturn      568.0000\n",
       "Uranus       86.8000\n",
       "Venus         4.8700\n",
       "Name: Mass, dtype: float64"
      ]
     },
     "execution_count": 33,
     "metadata": {},
     "output_type": "execute_result"
    }
   ],
   "source": [
    "df.loc[:,'Mass']"
   ]
  },
  {
   "cell_type": "markdown",
   "metadata": {},
   "source": [
    "## creating mean row"
   ]
  },
  {
   "cell_type": "code",
   "execution_count": 34,
   "metadata": {},
   "outputs": [
    {
     "data": {
      "text/plain": [
       "296.29184444444445"
      ]
     },
     "execution_count": 34,
     "metadata": {},
     "output_type": "execute_result"
    }
   ],
   "source": [
    "np.mean(df['Mass']) #mean of column Mass"
   ]
  },
  {
   "cell_type": "code",
   "execution_count": 35,
   "metadata": {},
   "outputs": [],
   "source": [
    "df.drop('pop',axis=1,inplace=True) #removing a column"
   ]
  },
  {
   "cell_type": "code",
   "execution_count": 36,
   "metadata": {},
   "outputs": [
    {
     "data": {
      "text/html": [
       "<div>\n",
       "<style scoped>\n",
       "    .dataframe tbody tr th:only-of-type {\n",
       "        vertical-align: middle;\n",
       "    }\n",
       "\n",
       "    .dataframe tbody tr th {\n",
       "        vertical-align: top;\n",
       "    }\n",
       "\n",
       "    .dataframe thead th {\n",
       "        text-align: right;\n",
       "    }\n",
       "</style>\n",
       "<table border=\"1\" class=\"dataframe\">\n",
       "  <thead>\n",
       "    <tr style=\"text-align: right;\">\n",
       "      <th></th>\n",
       "      <th>Mass</th>\n",
       "      <th>Diameter</th>\n",
       "    </tr>\n",
       "  </thead>\n",
       "  <tbody>\n",
       "    <tr>\n",
       "      <th>Earth</th>\n",
       "      <td>5.9700</td>\n",
       "      <td>12756</td>\n",
       "    </tr>\n",
       "    <tr>\n",
       "      <th>Jupiter</th>\n",
       "      <td>1898.0000</td>\n",
       "      <td>142984</td>\n",
       "    </tr>\n",
       "    <tr>\n",
       "      <th>Mars</th>\n",
       "      <td>0.6420</td>\n",
       "      <td>6792</td>\n",
       "    </tr>\n",
       "    <tr>\n",
       "      <th>Mercury</th>\n",
       "      <td>0.3300</td>\n",
       "      <td>4879</td>\n",
       "    </tr>\n",
       "    <tr>\n",
       "      <th>Moon</th>\n",
       "      <td>NaN</td>\n",
       "      <td>3475</td>\n",
       "    </tr>\n",
       "    <tr>\n",
       "      <th>Neptune</th>\n",
       "      <td>102.0000</td>\n",
       "      <td>49528</td>\n",
       "    </tr>\n",
       "    <tr>\n",
       "      <th>Pluto</th>\n",
       "      <td>0.0146</td>\n",
       "      <td>2370</td>\n",
       "    </tr>\n",
       "    <tr>\n",
       "      <th>Saturn</th>\n",
       "      <td>568.0000</td>\n",
       "      <td>120536</td>\n",
       "    </tr>\n",
       "    <tr>\n",
       "      <th>Uranus</th>\n",
       "      <td>86.8000</td>\n",
       "      <td>51118</td>\n",
       "    </tr>\n",
       "    <tr>\n",
       "      <th>Venus</th>\n",
       "      <td>4.8700</td>\n",
       "      <td>12104</td>\n",
       "    </tr>\n",
       "  </tbody>\n",
       "</table>\n",
       "</div>"
      ],
      "text/plain": [
       "              Mass  Diameter\n",
       "Earth       5.9700     12756\n",
       "Jupiter  1898.0000    142984\n",
       "Mars        0.6420      6792\n",
       "Mercury     0.3300      4879\n",
       "Moon           NaN      3475\n",
       "Neptune   102.0000     49528\n",
       "Pluto       0.0146      2370\n",
       "Saturn    568.0000    120536\n",
       "Uranus     86.8000     51118\n",
       "Venus       4.8700     12104"
      ]
     },
     "execution_count": 36,
     "metadata": {},
     "output_type": "execute_result"
    }
   ],
   "source": [
    "df"
   ]
  },
  {
   "cell_type": "code",
   "execution_count": 37,
   "metadata": {},
   "outputs": [],
   "source": [
    "def create_mean_row(df):\n",
    "    df.loc['Col_Mean'] = df.mean()\n",
    "    return df"
   ]
  },
  {
   "cell_type": "code",
   "execution_count": 38,
   "metadata": {},
   "outputs": [
    {
     "data": {
      "text/html": [
       "<div>\n",
       "<style scoped>\n",
       "    .dataframe tbody tr th:only-of-type {\n",
       "        vertical-align: middle;\n",
       "    }\n",
       "\n",
       "    .dataframe tbody tr th {\n",
       "        vertical-align: top;\n",
       "    }\n",
       "\n",
       "    .dataframe thead th {\n",
       "        text-align: right;\n",
       "    }\n",
       "</style>\n",
       "<table border=\"1\" class=\"dataframe\">\n",
       "  <thead>\n",
       "    <tr style=\"text-align: right;\">\n",
       "      <th></th>\n",
       "      <th>Mass</th>\n",
       "      <th>Diameter</th>\n",
       "    </tr>\n",
       "  </thead>\n",
       "  <tbody>\n",
       "    <tr>\n",
       "      <th>Earth</th>\n",
       "      <td>5.9700</td>\n",
       "      <td>12756</td>\n",
       "    </tr>\n",
       "    <tr>\n",
       "      <th>Jupiter</th>\n",
       "      <td>1898.0000</td>\n",
       "      <td>142984</td>\n",
       "    </tr>\n",
       "    <tr>\n",
       "      <th>Mars</th>\n",
       "      <td>0.6420</td>\n",
       "      <td>6792</td>\n",
       "    </tr>\n",
       "    <tr>\n",
       "      <th>Mercury</th>\n",
       "      <td>0.3300</td>\n",
       "      <td>4879</td>\n",
       "    </tr>\n",
       "    <tr>\n",
       "      <th>Moon</th>\n",
       "      <td>NaN</td>\n",
       "      <td>3475</td>\n",
       "    </tr>\n",
       "    <tr>\n",
       "      <th>Neptune</th>\n",
       "      <td>102.0000</td>\n",
       "      <td>49528</td>\n",
       "    </tr>\n",
       "    <tr>\n",
       "      <th>Pluto</th>\n",
       "      <td>0.0146</td>\n",
       "      <td>2370</td>\n",
       "    </tr>\n",
       "    <tr>\n",
       "      <th>Saturn</th>\n",
       "      <td>568.0000</td>\n",
       "      <td>120536</td>\n",
       "    </tr>\n",
       "    <tr>\n",
       "      <th>Uranus</th>\n",
       "      <td>86.8000</td>\n",
       "      <td>51118</td>\n",
       "    </tr>\n",
       "    <tr>\n",
       "      <th>Venus</th>\n",
       "      <td>4.8700</td>\n",
       "      <td>12104</td>\n",
       "    </tr>\n",
       "  </tbody>\n",
       "</table>\n",
       "</div>"
      ],
      "text/plain": [
       "              Mass  Diameter\n",
       "Earth       5.9700     12756\n",
       "Jupiter  1898.0000    142984\n",
       "Mars        0.6420      6792\n",
       "Mercury     0.3300      4879\n",
       "Moon           NaN      3475\n",
       "Neptune   102.0000     49528\n",
       "Pluto       0.0146      2370\n",
       "Saturn    568.0000    120536\n",
       "Uranus     86.8000     51118\n",
       "Venus       4.8700     12104"
      ]
     },
     "execution_count": 38,
     "metadata": {},
     "output_type": "execute_result"
    }
   ],
   "source": [
    "df"
   ]
  },
  {
   "cell_type": "code",
   "execution_count": 40,
   "metadata": {},
   "outputs": [
    {
     "data": {
      "text/html": [
       "<div>\n",
       "<style scoped>\n",
       "    .dataframe tbody tr th:only-of-type {\n",
       "        vertical-align: middle;\n",
       "    }\n",
       "\n",
       "    .dataframe tbody tr th {\n",
       "        vertical-align: top;\n",
       "    }\n",
       "\n",
       "    .dataframe thead th {\n",
       "        text-align: right;\n",
       "    }\n",
       "</style>\n",
       "<table border=\"1\" class=\"dataframe\">\n",
       "  <thead>\n",
       "    <tr style=\"text-align: right;\">\n",
       "      <th></th>\n",
       "      <th>Mass</th>\n",
       "      <th>Diameter</th>\n",
       "    </tr>\n",
       "  </thead>\n",
       "  <tbody>\n",
       "    <tr>\n",
       "      <th>Earth</th>\n",
       "      <td>5.9700</td>\n",
       "      <td>12756</td>\n",
       "    </tr>\n",
       "    <tr>\n",
       "      <th>Jupiter</th>\n",
       "      <td>1898.0000</td>\n",
       "      <td>142984</td>\n",
       "    </tr>\n",
       "    <tr>\n",
       "      <th>Mars</th>\n",
       "      <td>0.6420</td>\n",
       "      <td>6792</td>\n",
       "    </tr>\n",
       "    <tr>\n",
       "      <th>Mercury</th>\n",
       "      <td>0.3300</td>\n",
       "      <td>4879</td>\n",
       "    </tr>\n",
       "    <tr>\n",
       "      <th>Moon</th>\n",
       "      <td>NaN</td>\n",
       "      <td>3475</td>\n",
       "    </tr>\n",
       "    <tr>\n",
       "      <th>Neptune</th>\n",
       "      <td>102.0000</td>\n",
       "      <td>49528</td>\n",
       "    </tr>\n",
       "    <tr>\n",
       "      <th>Pluto</th>\n",
       "      <td>0.0146</td>\n",
       "      <td>2370</td>\n",
       "    </tr>\n",
       "    <tr>\n",
       "      <th>Saturn</th>\n",
       "      <td>568.0000</td>\n",
       "      <td>120536</td>\n",
       "    </tr>\n",
       "    <tr>\n",
       "      <th>Uranus</th>\n",
       "      <td>86.8000</td>\n",
       "      <td>51118</td>\n",
       "    </tr>\n",
       "    <tr>\n",
       "      <th>Venus</th>\n",
       "      <td>4.8700</td>\n",
       "      <td>12104</td>\n",
       "    </tr>\n",
       "    <tr>\n",
       "      <th>col_mean</th>\n",
       "      <td>0.0000</td>\n",
       "      <td>0</td>\n",
       "    </tr>\n",
       "  </tbody>\n",
       "</table>\n",
       "</div>"
      ],
      "text/plain": [
       "               Mass  Diameter\n",
       "Earth        5.9700     12756\n",
       "Jupiter   1898.0000    142984\n",
       "Mars         0.6420      6792\n",
       "Mercury      0.3300      4879\n",
       "Moon            NaN      3475\n",
       "Neptune    102.0000     49528\n",
       "Pluto        0.0146      2370\n",
       "Saturn     568.0000    120536\n",
       "Uranus      86.8000     51118\n",
       "Venus        4.8700     12104\n",
       "col_mean     0.0000         0"
      ]
     },
     "execution_count": 40,
     "metadata": {},
     "output_type": "execute_result"
    }
   ],
   "source": [
    "df.loc['col_mean']=0 #adding a new row\n",
    "df"
   ]
  },
  {
   "cell_type": "code",
   "execution_count": 41,
   "metadata": {},
   "outputs": [
    {
     "data": {
      "text/plain": [
       "266.66266"
      ]
     },
     "execution_count": 41,
     "metadata": {},
     "output_type": "execute_result"
    }
   ],
   "source": [
    "np.mean(df['Mass']) #calculating mean of Mass column "
   ]
  },
  {
   "cell_type": "code",
   "execution_count": 42,
   "metadata": {},
   "outputs": [],
   "source": [
    "df.drop('col_mean',inplace=True)"
   ]
  },
  {
   "cell_type": "code",
   "execution_count": 45,
   "metadata": {},
   "outputs": [
    {
     "data": {
      "text/html": [
       "<div>\n",
       "<style scoped>\n",
       "    .dataframe tbody tr th:only-of-type {\n",
       "        vertical-align: middle;\n",
       "    }\n",
       "\n",
       "    .dataframe tbody tr th {\n",
       "        vertical-align: top;\n",
       "    }\n",
       "\n",
       "    .dataframe thead th {\n",
       "        text-align: right;\n",
       "    }\n",
       "</style>\n",
       "<table border=\"1\" class=\"dataframe\">\n",
       "  <thead>\n",
       "    <tr style=\"text-align: right;\">\n",
       "      <th></th>\n",
       "      <th>Mass</th>\n",
       "      <th>Diameter</th>\n",
       "    </tr>\n",
       "  </thead>\n",
       "  <tbody>\n",
       "    <tr>\n",
       "      <th>Earth</th>\n",
       "      <td>5.9700</td>\n",
       "      <td>12756</td>\n",
       "    </tr>\n",
       "    <tr>\n",
       "      <th>Jupiter</th>\n",
       "      <td>1898.0000</td>\n",
       "      <td>142984</td>\n",
       "    </tr>\n",
       "    <tr>\n",
       "      <th>Mars</th>\n",
       "      <td>0.6420</td>\n",
       "      <td>6792</td>\n",
       "    </tr>\n",
       "    <tr>\n",
       "      <th>Mercury</th>\n",
       "      <td>0.3300</td>\n",
       "      <td>4879</td>\n",
       "    </tr>\n",
       "    <tr>\n",
       "      <th>Moon</th>\n",
       "      <td>NaN</td>\n",
       "      <td>3475</td>\n",
       "    </tr>\n",
       "    <tr>\n",
       "      <th>Neptune</th>\n",
       "      <td>102.0000</td>\n",
       "      <td>49528</td>\n",
       "    </tr>\n",
       "    <tr>\n",
       "      <th>Pluto</th>\n",
       "      <td>0.0146</td>\n",
       "      <td>2370</td>\n",
       "    </tr>\n",
       "    <tr>\n",
       "      <th>Saturn</th>\n",
       "      <td>568.0000</td>\n",
       "      <td>120536</td>\n",
       "    </tr>\n",
       "    <tr>\n",
       "      <th>Uranus</th>\n",
       "      <td>86.8000</td>\n",
       "      <td>51118</td>\n",
       "    </tr>\n",
       "    <tr>\n",
       "      <th>Venus</th>\n",
       "      <td>4.8700</td>\n",
       "      <td>12104</td>\n",
       "    </tr>\n",
       "  </tbody>\n",
       "</table>\n",
       "</div>"
      ],
      "text/plain": [
       "              Mass  Diameter\n",
       "Earth       5.9700     12756\n",
       "Jupiter  1898.0000    142984\n",
       "Mars        0.6420      6792\n",
       "Mercury     0.3300      4879\n",
       "Moon           NaN      3475\n",
       "Neptune   102.0000     49528\n",
       "Pluto       0.0146      2370\n",
       "Saturn    568.0000    120536\n",
       "Uranus     86.8000     51118\n",
       "Venus       4.8700     12104"
      ]
     },
     "execution_count": 45,
     "metadata": {},
     "output_type": "execute_result"
    }
   ],
   "source": [
    "df"
   ]
  },
  {
   "cell_type": "code",
   "execution_count": 47,
   "metadata": {},
   "outputs": [
    {
     "data": {
      "text/plain": [
       "296.29184444444445"
      ]
     },
     "execution_count": 47,
     "metadata": {},
     "output_type": "execute_result"
    }
   ],
   "source": [
    "np.mean(df['Mass']) #mean after dropping col_mean row"
   ]
  },
  {
   "cell_type": "code",
   "execution_count": 48,
   "metadata": {},
   "outputs": [],
   "source": [
    "df.loc['col_mean']=[np.mean(df['Mass']),np.mean(df['Diameter'])]"
   ]
  },
  {
   "cell_type": "code",
   "execution_count": 49,
   "metadata": {},
   "outputs": [
    {
     "data": {
      "text/html": [
       "<div>\n",
       "<style scoped>\n",
       "    .dataframe tbody tr th:only-of-type {\n",
       "        vertical-align: middle;\n",
       "    }\n",
       "\n",
       "    .dataframe tbody tr th {\n",
       "        vertical-align: top;\n",
       "    }\n",
       "\n",
       "    .dataframe thead th {\n",
       "        text-align: right;\n",
       "    }\n",
       "</style>\n",
       "<table border=\"1\" class=\"dataframe\">\n",
       "  <thead>\n",
       "    <tr style=\"text-align: right;\">\n",
       "      <th></th>\n",
       "      <th>Mass</th>\n",
       "      <th>Diameter</th>\n",
       "    </tr>\n",
       "  </thead>\n",
       "  <tbody>\n",
       "    <tr>\n",
       "      <th>Earth</th>\n",
       "      <td>5.970000</td>\n",
       "      <td>12756.0</td>\n",
       "    </tr>\n",
       "    <tr>\n",
       "      <th>Jupiter</th>\n",
       "      <td>1898.000000</td>\n",
       "      <td>142984.0</td>\n",
       "    </tr>\n",
       "    <tr>\n",
       "      <th>Mars</th>\n",
       "      <td>0.642000</td>\n",
       "      <td>6792.0</td>\n",
       "    </tr>\n",
       "    <tr>\n",
       "      <th>Mercury</th>\n",
       "      <td>0.330000</td>\n",
       "      <td>4879.0</td>\n",
       "    </tr>\n",
       "    <tr>\n",
       "      <th>Moon</th>\n",
       "      <td>NaN</td>\n",
       "      <td>3475.0</td>\n",
       "    </tr>\n",
       "    <tr>\n",
       "      <th>Neptune</th>\n",
       "      <td>102.000000</td>\n",
       "      <td>49528.0</td>\n",
       "    </tr>\n",
       "    <tr>\n",
       "      <th>Pluto</th>\n",
       "      <td>0.014600</td>\n",
       "      <td>2370.0</td>\n",
       "    </tr>\n",
       "    <tr>\n",
       "      <th>Saturn</th>\n",
       "      <td>568.000000</td>\n",
       "      <td>120536.0</td>\n",
       "    </tr>\n",
       "    <tr>\n",
       "      <th>Uranus</th>\n",
       "      <td>86.800000</td>\n",
       "      <td>51118.0</td>\n",
       "    </tr>\n",
       "    <tr>\n",
       "      <th>Venus</th>\n",
       "      <td>4.870000</td>\n",
       "      <td>12104.0</td>\n",
       "    </tr>\n",
       "    <tr>\n",
       "      <th>col_mean</th>\n",
       "      <td>296.291844</td>\n",
       "      <td>40654.2</td>\n",
       "    </tr>\n",
       "  </tbody>\n",
       "</table>\n",
       "</div>"
      ],
      "text/plain": [
       "                 Mass  Diameter\n",
       "Earth        5.970000   12756.0\n",
       "Jupiter   1898.000000  142984.0\n",
       "Mars         0.642000    6792.0\n",
       "Mercury      0.330000    4879.0\n",
       "Moon              NaN    3475.0\n",
       "Neptune    102.000000   49528.0\n",
       "Pluto        0.014600    2370.0\n",
       "Saturn     568.000000  120536.0\n",
       "Uranus      86.800000   51118.0\n",
       "Venus        4.870000   12104.0\n",
       "col_mean   296.291844   40654.2"
      ]
     },
     "execution_count": 49,
     "metadata": {},
     "output_type": "execute_result"
    }
   ],
   "source": [
    "df"
   ]
  },
  {
   "cell_type": "code",
   "execution_count": 51,
   "metadata": {},
   "outputs": [
    {
     "data": {
      "text/html": [
       "<div>\n",
       "<style scoped>\n",
       "    .dataframe tbody tr th:only-of-type {\n",
       "        vertical-align: middle;\n",
       "    }\n",
       "\n",
       "    .dataframe tbody tr th {\n",
       "        vertical-align: top;\n",
       "    }\n",
       "\n",
       "    .dataframe thead th {\n",
       "        text-align: right;\n",
       "    }\n",
       "</style>\n",
       "<table border=\"1\" class=\"dataframe\">\n",
       "  <thead>\n",
       "    <tr style=\"text-align: right;\">\n",
       "      <th></th>\n",
       "      <th>Mass</th>\n",
       "      <th>Diameter</th>\n",
       "    </tr>\n",
       "  </thead>\n",
       "  <tbody>\n",
       "    <tr>\n",
       "      <th>Earth</th>\n",
       "      <td>5.9700</td>\n",
       "      <td>12756.0</td>\n",
       "    </tr>\n",
       "    <tr>\n",
       "      <th>Jupiter</th>\n",
       "      <td>1898.0000</td>\n",
       "      <td>142984.0</td>\n",
       "    </tr>\n",
       "    <tr>\n",
       "      <th>Mars</th>\n",
       "      <td>0.6420</td>\n",
       "      <td>6792.0</td>\n",
       "    </tr>\n",
       "    <tr>\n",
       "      <th>Mercury</th>\n",
       "      <td>0.3300</td>\n",
       "      <td>4879.0</td>\n",
       "    </tr>\n",
       "    <tr>\n",
       "      <th>Moon</th>\n",
       "      <td>NaN</td>\n",
       "      <td>3475.0</td>\n",
       "    </tr>\n",
       "    <tr>\n",
       "      <th>Neptune</th>\n",
       "      <td>102.0000</td>\n",
       "      <td>49528.0</td>\n",
       "    </tr>\n",
       "    <tr>\n",
       "      <th>Pluto</th>\n",
       "      <td>0.0146</td>\n",
       "      <td>2370.0</td>\n",
       "    </tr>\n",
       "    <tr>\n",
       "      <th>Saturn</th>\n",
       "      <td>568.0000</td>\n",
       "      <td>120536.0</td>\n",
       "    </tr>\n",
       "    <tr>\n",
       "      <th>Uranus</th>\n",
       "      <td>86.8000</td>\n",
       "      <td>51118.0</td>\n",
       "    </tr>\n",
       "    <tr>\n",
       "      <th>Venus</th>\n",
       "      <td>4.8700</td>\n",
       "      <td>12104.0</td>\n",
       "    </tr>\n",
       "  </tbody>\n",
       "</table>\n",
       "</div>"
      ],
      "text/plain": [
       "              Mass  Diameter\n",
       "Earth       5.9700   12756.0\n",
       "Jupiter  1898.0000  142984.0\n",
       "Mars        0.6420    6792.0\n",
       "Mercury     0.3300    4879.0\n",
       "Moon           NaN    3475.0\n",
       "Neptune   102.0000   49528.0\n",
       "Pluto       0.0146    2370.0\n",
       "Saturn    568.0000  120536.0\n",
       "Uranus     86.8000   51118.0\n",
       "Venus       4.8700   12104.0"
      ]
     },
     "execution_count": 51,
     "metadata": {},
     "output_type": "execute_result"
    }
   ],
   "source": [
    "df.drop('col_mean')"
   ]
  },
  {
   "cell_type": "code",
   "execution_count": 52,
   "metadata": {},
   "outputs": [
    {
     "data": {
      "text/html": [
       "<div>\n",
       "<style scoped>\n",
       "    .dataframe tbody tr th:only-of-type {\n",
       "        vertical-align: middle;\n",
       "    }\n",
       "\n",
       "    .dataframe tbody tr th {\n",
       "        vertical-align: top;\n",
       "    }\n",
       "\n",
       "    .dataframe thead th {\n",
       "        text-align: right;\n",
       "    }\n",
       "</style>\n",
       "<table border=\"1\" class=\"dataframe\">\n",
       "  <thead>\n",
       "    <tr style=\"text-align: right;\">\n",
       "      <th></th>\n",
       "      <th>Mass</th>\n",
       "      <th>Diameter</th>\n",
       "    </tr>\n",
       "  </thead>\n",
       "  <tbody>\n",
       "    <tr>\n",
       "      <th>Earth</th>\n",
       "      <td>5.970000</td>\n",
       "      <td>12756.0</td>\n",
       "    </tr>\n",
       "    <tr>\n",
       "      <th>Jupiter</th>\n",
       "      <td>1898.000000</td>\n",
       "      <td>142984.0</td>\n",
       "    </tr>\n",
       "    <tr>\n",
       "      <th>Mars</th>\n",
       "      <td>0.642000</td>\n",
       "      <td>6792.0</td>\n",
       "    </tr>\n",
       "    <tr>\n",
       "      <th>Mercury</th>\n",
       "      <td>0.330000</td>\n",
       "      <td>4879.0</td>\n",
       "    </tr>\n",
       "    <tr>\n",
       "      <th>Moon</th>\n",
       "      <td>NaN</td>\n",
       "      <td>3475.0</td>\n",
       "    </tr>\n",
       "    <tr>\n",
       "      <th>Neptune</th>\n",
       "      <td>102.000000</td>\n",
       "      <td>49528.0</td>\n",
       "    </tr>\n",
       "    <tr>\n",
       "      <th>Pluto</th>\n",
       "      <td>0.014600</td>\n",
       "      <td>2370.0</td>\n",
       "    </tr>\n",
       "    <tr>\n",
       "      <th>Saturn</th>\n",
       "      <td>568.000000</td>\n",
       "      <td>120536.0</td>\n",
       "    </tr>\n",
       "    <tr>\n",
       "      <th>Uranus</th>\n",
       "      <td>86.800000</td>\n",
       "      <td>51118.0</td>\n",
       "    </tr>\n",
       "    <tr>\n",
       "      <th>Venus</th>\n",
       "      <td>4.870000</td>\n",
       "      <td>12104.0</td>\n",
       "    </tr>\n",
       "    <tr>\n",
       "      <th>col_mean</th>\n",
       "      <td>296.291844</td>\n",
       "      <td>40654.2</td>\n",
       "    </tr>\n",
       "    <tr>\n",
       "      <th>Col_Mean</th>\n",
       "      <td>296.291844</td>\n",
       "      <td>40654.2</td>\n",
       "    </tr>\n",
       "  </tbody>\n",
       "</table>\n",
       "</div>"
      ],
      "text/plain": [
       "                 Mass  Diameter\n",
       "Earth        5.970000   12756.0\n",
       "Jupiter   1898.000000  142984.0\n",
       "Mars         0.642000    6792.0\n",
       "Mercury      0.330000    4879.0\n",
       "Moon              NaN    3475.0\n",
       "Neptune    102.000000   49528.0\n",
       "Pluto        0.014600    2370.0\n",
       "Saturn     568.000000  120536.0\n",
       "Uranus      86.800000   51118.0\n",
       "Venus        4.870000   12104.0\n",
       "col_mean   296.291844   40654.2\n",
       "Col_Mean   296.291844   40654.2"
      ]
     },
     "execution_count": 52,
     "metadata": {},
     "output_type": "execute_result"
    }
   ],
   "source": [
    "create_mean_row(df)"
   ]
  },
  {
   "cell_type": "markdown",
   "metadata": {},
   "source": [
    "## creating dataframe"
   ]
  },
  {
   "cell_type": "code",
   "execution_count": 54,
   "metadata": {},
   "outputs": [],
   "source": [
    "def create_df(nRows, nCols, maxRand=10):\n",
    "    arr = np.random.randint(0, maxRand, (nRows, nCols))\n",
    "    df = pd.DataFrame(arr)\n",
    "    df.index = ['R' + str(x) for x in np.arange(1, nRows+1)]\n",
    "    df.columns = ['C' + str(x) for x in np.arange(1, nCols+1)]\n",
    "    return df"
   ]
  },
  {
   "cell_type": "code",
   "execution_count": 60,
   "metadata": {},
   "outputs": [
    {
     "data": {
      "text/html": [
       "<div>\n",
       "<style scoped>\n",
       "    .dataframe tbody tr th:only-of-type {\n",
       "        vertical-align: middle;\n",
       "    }\n",
       "\n",
       "    .dataframe tbody tr th {\n",
       "        vertical-align: top;\n",
       "    }\n",
       "\n",
       "    .dataframe thead th {\n",
       "        text-align: right;\n",
       "    }\n",
       "</style>\n",
       "<table border=\"1\" class=\"dataframe\">\n",
       "  <thead>\n",
       "    <tr style=\"text-align: right;\">\n",
       "      <th></th>\n",
       "      <th>C1</th>\n",
       "      <th>C2</th>\n",
       "      <th>C3</th>\n",
       "    </tr>\n",
       "  </thead>\n",
       "  <tbody>\n",
       "    <tr>\n",
       "      <th>R1</th>\n",
       "      <td>9</td>\n",
       "      <td>5</td>\n",
       "      <td>5</td>\n",
       "    </tr>\n",
       "    <tr>\n",
       "      <th>R2</th>\n",
       "      <td>6</td>\n",
       "      <td>3</td>\n",
       "      <td>0</td>\n",
       "    </tr>\n",
       "    <tr>\n",
       "      <th>R3</th>\n",
       "      <td>5</td>\n",
       "      <td>9</td>\n",
       "      <td>2</td>\n",
       "    </tr>\n",
       "    <tr>\n",
       "      <th>R4</th>\n",
       "      <td>3</td>\n",
       "      <td>5</td>\n",
       "      <td>3</td>\n",
       "    </tr>\n",
       "    <tr>\n",
       "      <th>R5</th>\n",
       "      <td>3</td>\n",
       "      <td>8</td>\n",
       "      <td>0</td>\n",
       "    </tr>\n",
       "  </tbody>\n",
       "</table>\n",
       "</div>"
      ],
      "text/plain": [
       "    C1  C2  C3\n",
       "R1   9   5   5\n",
       "R2   6   3   0\n",
       "R3   5   9   2\n",
       "R4   3   5   3\n",
       "R5   3   8   0"
      ]
     },
     "execution_count": 60,
     "metadata": {},
     "output_type": "execute_result"
    }
   ],
   "source": [
    "df=create_df(5,3)\n",
    "df"
   ]
  },
  {
   "cell_type": "code",
   "execution_count": 65,
   "metadata": {},
   "outputs": [
    {
     "data": {
      "text/plain": [
       "C1    5.2\n",
       "C2    6.0\n",
       "C3    2.0\n",
       "dtype: float64"
      ]
     },
     "execution_count": 65,
     "metadata": {},
     "output_type": "execute_result"
    }
   ],
   "source": [
    "df.mean() #calculating mean column wise"
   ]
  },
  {
   "cell_type": "code",
   "execution_count": 64,
   "metadata": {},
   "outputs": [
    {
     "data": {
      "text/plain": [
       "R1    6.333333\n",
       "R2    3.000000\n",
       "R3    5.333333\n",
       "R4    3.666667\n",
       "R5    3.666667\n",
       "dtype: float64"
      ]
     },
     "execution_count": 64,
     "metadata": {},
     "output_type": "execute_result"
    }
   ],
   "source": [
    "df.mean(axis=1) #mean row wise"
   ]
  },
  {
   "cell_type": "code",
   "execution_count": 66,
   "metadata": {},
   "outputs": [],
   "source": [
    "df['Row_mean']=df.mean(axis=1)"
   ]
  },
  {
   "cell_type": "code",
   "execution_count": 67,
   "metadata": {},
   "outputs": [
    {
     "data": {
      "text/html": [
       "<div>\n",
       "<style scoped>\n",
       "    .dataframe tbody tr th:only-of-type {\n",
       "        vertical-align: middle;\n",
       "    }\n",
       "\n",
       "    .dataframe tbody tr th {\n",
       "        vertical-align: top;\n",
       "    }\n",
       "\n",
       "    .dataframe thead th {\n",
       "        text-align: right;\n",
       "    }\n",
       "</style>\n",
       "<table border=\"1\" class=\"dataframe\">\n",
       "  <thead>\n",
       "    <tr style=\"text-align: right;\">\n",
       "      <th></th>\n",
       "      <th>C1</th>\n",
       "      <th>C2</th>\n",
       "      <th>C3</th>\n",
       "      <th>Row_mean</th>\n",
       "    </tr>\n",
       "  </thead>\n",
       "  <tbody>\n",
       "    <tr>\n",
       "      <th>R1</th>\n",
       "      <td>9.0</td>\n",
       "      <td>5.0</td>\n",
       "      <td>5.0</td>\n",
       "      <td>6.333333</td>\n",
       "    </tr>\n",
       "    <tr>\n",
       "      <th>R2</th>\n",
       "      <td>6.0</td>\n",
       "      <td>3.0</td>\n",
       "      <td>0.0</td>\n",
       "      <td>3.000000</td>\n",
       "    </tr>\n",
       "    <tr>\n",
       "      <th>R3</th>\n",
       "      <td>5.0</td>\n",
       "      <td>9.0</td>\n",
       "      <td>2.0</td>\n",
       "      <td>5.333333</td>\n",
       "    </tr>\n",
       "    <tr>\n",
       "      <th>R4</th>\n",
       "      <td>3.0</td>\n",
       "      <td>5.0</td>\n",
       "      <td>3.0</td>\n",
       "      <td>3.666667</td>\n",
       "    </tr>\n",
       "    <tr>\n",
       "      <th>R5</th>\n",
       "      <td>3.0</td>\n",
       "      <td>8.0</td>\n",
       "      <td>0.0</td>\n",
       "      <td>3.666667</td>\n",
       "    </tr>\n",
       "    <tr>\n",
       "      <th>col_mean</th>\n",
       "      <td>5.2</td>\n",
       "      <td>6.0</td>\n",
       "      <td>2.0</td>\n",
       "      <td>4.400000</td>\n",
       "    </tr>\n",
       "  </tbody>\n",
       "</table>\n",
       "</div>"
      ],
      "text/plain": [
       "           C1   C2   C3  Row_mean\n",
       "R1        9.0  5.0  5.0  6.333333\n",
       "R2        6.0  3.0  0.0  3.000000\n",
       "R3        5.0  9.0  2.0  5.333333\n",
       "R4        3.0  5.0  3.0  3.666667\n",
       "R5        3.0  8.0  0.0  3.666667\n",
       "col_mean  5.2  6.0  2.0  4.400000"
      ]
     },
     "execution_count": 67,
     "metadata": {},
     "output_type": "execute_result"
    }
   ],
   "source": [
    "df.loc['col_mean']=df.mean()\n",
    "df"
   ]
  },
  {
   "cell_type": "code",
   "execution_count": 68,
   "metadata": {},
   "outputs": [
    {
     "data": {
      "text/plain": [
       "C1          5.100000\n",
       "C2          5.500000\n",
       "C3          2.000000\n",
       "Row_mean    4.033333\n",
       "dtype: float64"
      ]
     },
     "execution_count": 68,
     "metadata": {},
     "output_type": "execute_result"
    }
   ],
   "source": [
    "df.median() #column wise median "
   ]
  },
  {
   "cell_type": "code",
   "execution_count": 69,
   "metadata": {},
   "outputs": [
    {
     "data": {
      "text/plain": [
       "C1          3.0\n",
       "C2          3.0\n",
       "C3          0.0\n",
       "Row_mean    3.0\n",
       "dtype: float64"
      ]
     },
     "execution_count": 69,
     "metadata": {},
     "output_type": "execute_result"
    }
   ],
   "source": [
    "df.min() #min no. of each row"
   ]
  },
  {
   "cell_type": "code",
   "execution_count": 70,
   "metadata": {},
   "outputs": [
    {
     "data": {
      "text/plain": [
       "C1          9.000000\n",
       "C2          9.000000\n",
       "C3          5.000000\n",
       "Row_mean    6.333333\n",
       "dtype: float64"
      ]
     },
     "execution_count": 70,
     "metadata": {},
     "output_type": "execute_result"
    }
   ],
   "source": [
    "df.max() #max no. of each row"
   ]
  },
  {
   "cell_type": "code",
   "execution_count": 71,
   "metadata": {},
   "outputs": [
    {
     "data": {
      "text/plain": [
       "C1          3.500000\n",
       "C2          5.000000\n",
       "C3          0.500000\n",
       "Row_mean    3.666667\n",
       "Name: 0.25, dtype: float64"
      ]
     },
     "execution_count": 71,
     "metadata": {},
     "output_type": "execute_result"
    }
   ],
   "source": [
    "df.quantile(0.25)"
   ]
  },
  {
   "cell_type": "code",
   "execution_count": 72,
   "metadata": {},
   "outputs": [
    {
     "data": {
      "text/html": [
       "<div>\n",
       "<style scoped>\n",
       "    .dataframe tbody tr th:only-of-type {\n",
       "        vertical-align: middle;\n",
       "    }\n",
       "\n",
       "    .dataframe tbody tr th {\n",
       "        vertical-align: top;\n",
       "    }\n",
       "\n",
       "    .dataframe thead th {\n",
       "        text-align: right;\n",
       "    }\n",
       "</style>\n",
       "<table border=\"1\" class=\"dataframe\">\n",
       "  <thead>\n",
       "    <tr style=\"text-align: right;\">\n",
       "      <th></th>\n",
       "      <th>C1</th>\n",
       "      <th>C2</th>\n",
       "      <th>C3</th>\n",
       "    </tr>\n",
       "  </thead>\n",
       "  <tbody>\n",
       "    <tr>\n",
       "      <th>R1</th>\n",
       "      <td>9.0</td>\n",
       "      <td>5.0</td>\n",
       "      <td>5.0</td>\n",
       "    </tr>\n",
       "    <tr>\n",
       "      <th>R2</th>\n",
       "      <td>6.0</td>\n",
       "      <td>3.0</td>\n",
       "      <td>0.0</td>\n",
       "    </tr>\n",
       "    <tr>\n",
       "      <th>R3</th>\n",
       "      <td>5.0</td>\n",
       "      <td>9.0</td>\n",
       "      <td>2.0</td>\n",
       "    </tr>\n",
       "    <tr>\n",
       "      <th>R4</th>\n",
       "      <td>3.0</td>\n",
       "      <td>5.0</td>\n",
       "      <td>3.0</td>\n",
       "    </tr>\n",
       "    <tr>\n",
       "      <th>R5</th>\n",
       "      <td>3.0</td>\n",
       "      <td>8.0</td>\n",
       "      <td>0.0</td>\n",
       "    </tr>\n",
       "    <tr>\n",
       "      <th>col_mean</th>\n",
       "      <td>5.2</td>\n",
       "      <td>6.0</td>\n",
       "      <td>2.0</td>\n",
       "    </tr>\n",
       "  </tbody>\n",
       "</table>\n",
       "</div>"
      ],
      "text/plain": [
       "           C1   C2   C3\n",
       "R1        9.0  5.0  5.0\n",
       "R2        6.0  3.0  0.0\n",
       "R3        5.0  9.0  2.0\n",
       "R4        3.0  5.0  3.0\n",
       "R5        3.0  8.0  0.0\n",
       "col_mean  5.2  6.0  2.0"
      ]
     },
     "execution_count": 72,
     "metadata": {},
     "output_type": "execute_result"
    }
   ],
   "source": [
    "df.drop('Row_mean', axis=1)"
   ]
  },
  {
   "cell_type": "code",
   "execution_count": 73,
   "metadata": {},
   "outputs": [
    {
     "data": {
      "text/html": [
       "<div>\n",
       "<style scoped>\n",
       "    .dataframe tbody tr th:only-of-type {\n",
       "        vertical-align: middle;\n",
       "    }\n",
       "\n",
       "    .dataframe tbody tr th {\n",
       "        vertical-align: top;\n",
       "    }\n",
       "\n",
       "    .dataframe thead th {\n",
       "        text-align: right;\n",
       "    }\n",
       "</style>\n",
       "<table border=\"1\" class=\"dataframe\">\n",
       "  <thead>\n",
       "    <tr style=\"text-align: right;\">\n",
       "      <th></th>\n",
       "      <th>C1</th>\n",
       "      <th>C2</th>\n",
       "      <th>C3</th>\n",
       "      <th>Row_mean</th>\n",
       "    </tr>\n",
       "  </thead>\n",
       "  <tbody>\n",
       "    <tr>\n",
       "      <th>count</th>\n",
       "      <td>6.000000</td>\n",
       "      <td>6.00000</td>\n",
       "      <td>6.000000</td>\n",
       "      <td>6.000000</td>\n",
       "    </tr>\n",
       "    <tr>\n",
       "      <th>mean</th>\n",
       "      <td>5.200000</td>\n",
       "      <td>6.00000</td>\n",
       "      <td>2.000000</td>\n",
       "      <td>4.400000</td>\n",
       "    </tr>\n",
       "    <tr>\n",
       "      <th>std</th>\n",
       "      <td>2.227106</td>\n",
       "      <td>2.19089</td>\n",
       "      <td>1.897367</td>\n",
       "      <td>1.236482</td>\n",
       "    </tr>\n",
       "    <tr>\n",
       "      <th>min</th>\n",
       "      <td>3.000000</td>\n",
       "      <td>3.00000</td>\n",
       "      <td>0.000000</td>\n",
       "      <td>3.000000</td>\n",
       "    </tr>\n",
       "    <tr>\n",
       "      <th>25%</th>\n",
       "      <td>3.500000</td>\n",
       "      <td>5.00000</td>\n",
       "      <td>0.500000</td>\n",
       "      <td>3.666667</td>\n",
       "    </tr>\n",
       "    <tr>\n",
       "      <th>50%</th>\n",
       "      <td>5.100000</td>\n",
       "      <td>5.50000</td>\n",
       "      <td>2.000000</td>\n",
       "      <td>4.033333</td>\n",
       "    </tr>\n",
       "    <tr>\n",
       "      <th>75%</th>\n",
       "      <td>5.800000</td>\n",
       "      <td>7.50000</td>\n",
       "      <td>2.750000</td>\n",
       "      <td>5.100000</td>\n",
       "    </tr>\n",
       "    <tr>\n",
       "      <th>max</th>\n",
       "      <td>9.000000</td>\n",
       "      <td>9.00000</td>\n",
       "      <td>5.000000</td>\n",
       "      <td>6.333333</td>\n",
       "    </tr>\n",
       "  </tbody>\n",
       "</table>\n",
       "</div>"
      ],
      "text/plain": [
       "             C1       C2        C3  Row_mean\n",
       "count  6.000000  6.00000  6.000000  6.000000\n",
       "mean   5.200000  6.00000  2.000000  4.400000\n",
       "std    2.227106  2.19089  1.897367  1.236482\n",
       "min    3.000000  3.00000  0.000000  3.000000\n",
       "25%    3.500000  5.00000  0.500000  3.666667\n",
       "50%    5.100000  5.50000  2.000000  4.033333\n",
       "75%    5.800000  7.50000  2.750000  5.100000\n",
       "max    9.000000  9.00000  5.000000  6.333333"
      ]
     },
     "execution_count": 73,
     "metadata": {},
     "output_type": "execute_result"
    }
   ],
   "source": [
    "df.describe()  #gives all the neccessary calculations"
   ]
  },
  {
   "cell_type": "code",
   "execution_count": 74,
   "metadata": {},
   "outputs": [],
   "source": [
    "mass = pd.Series([0.33, 4.87, 5.97, 0.642, 1898, 568, 86.8, 102, 0.0146], \n",
    "                 index=['Mercury', 'Venus', 'Earth', 'Mars', 'Jupiter', 'Saturn', 'Uranus', 'Neptune', 'Pluto'])\n",
    "diameter = pd.Series([4879, 12104, 12756, 3475, 6792, 142984, 120536, 51118, 49528, 2370], \n",
    "                     index=['Mercury', 'Venus', 'Earth', 'Moon', 'Mars', 'Jupiter', 'Saturn', 'Uranus', 'Neptune', 'Pluto'])"
   ]
  },
  {
   "cell_type": "code",
   "execution_count": 75,
   "metadata": {},
   "outputs": [],
   "source": [
    "planets = pd.DataFrame({'mass': mass, 'diameter': diameter})"
   ]
  },
  {
   "cell_type": "code",
   "execution_count": 76,
   "metadata": {},
   "outputs": [
    {
     "data": {
      "text/html": [
       "<div>\n",
       "<style scoped>\n",
       "    .dataframe tbody tr th:only-of-type {\n",
       "        vertical-align: middle;\n",
       "    }\n",
       "\n",
       "    .dataframe tbody tr th {\n",
       "        vertical-align: top;\n",
       "    }\n",
       "\n",
       "    .dataframe thead th {\n",
       "        text-align: right;\n",
       "    }\n",
       "</style>\n",
       "<table border=\"1\" class=\"dataframe\">\n",
       "  <thead>\n",
       "    <tr style=\"text-align: right;\">\n",
       "      <th></th>\n",
       "      <th>mass</th>\n",
       "      <th>diameter</th>\n",
       "    </tr>\n",
       "  </thead>\n",
       "  <tbody>\n",
       "    <tr>\n",
       "      <th>count</th>\n",
       "      <td>9.000000</td>\n",
       "      <td>10.00000</td>\n",
       "    </tr>\n",
       "    <tr>\n",
       "      <th>mean</th>\n",
       "      <td>296.291844</td>\n",
       "      <td>40654.20000</td>\n",
       "    </tr>\n",
       "    <tr>\n",
       "      <th>std</th>\n",
       "      <td>627.786429</td>\n",
       "      <td>51541.39142</td>\n",
       "    </tr>\n",
       "    <tr>\n",
       "      <th>min</th>\n",
       "      <td>0.014600</td>\n",
       "      <td>2370.00000</td>\n",
       "    </tr>\n",
       "    <tr>\n",
       "      <th>25%</th>\n",
       "      <td>0.642000</td>\n",
       "      <td>5357.25000</td>\n",
       "    </tr>\n",
       "    <tr>\n",
       "      <th>50%</th>\n",
       "      <td>5.970000</td>\n",
       "      <td>12430.00000</td>\n",
       "    </tr>\n",
       "    <tr>\n",
       "      <th>75%</th>\n",
       "      <td>102.000000</td>\n",
       "      <td>50720.50000</td>\n",
       "    </tr>\n",
       "    <tr>\n",
       "      <th>max</th>\n",
       "      <td>1898.000000</td>\n",
       "      <td>142984.00000</td>\n",
       "    </tr>\n",
       "  </tbody>\n",
       "</table>\n",
       "</div>"
      ],
      "text/plain": [
       "              mass      diameter\n",
       "count     9.000000      10.00000\n",
       "mean    296.291844   40654.20000\n",
       "std     627.786429   51541.39142\n",
       "min       0.014600    2370.00000\n",
       "25%       0.642000    5357.25000\n",
       "50%       5.970000   12430.00000\n",
       "75%     102.000000   50720.50000\n",
       "max    1898.000000  142984.00000"
      ]
     },
     "execution_count": 76,
     "metadata": {},
     "output_type": "execute_result"
    }
   ],
   "source": [
    "planets.describe()"
   ]
  },
  {
   "cell_type": "code",
   "execution_count": null,
   "metadata": {},
   "outputs": [],
   "source": []
  }
 ],
 "metadata": {
  "kernelspec": {
   "display_name": "Python 3",
   "language": "python",
   "name": "python3"
  },
  "language_info": {
   "codemirror_mode": {
    "name": "ipython",
    "version": 3
   },
   "file_extension": ".py",
   "mimetype": "text/x-python",
   "name": "python",
   "nbconvert_exporter": "python",
   "pygments_lexer": "ipython3",
   "version": "3.6.4"
  }
 },
 "nbformat": 4,
 "nbformat_minor": 4
}
