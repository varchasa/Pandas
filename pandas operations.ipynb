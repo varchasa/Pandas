{
 "cells": [
  {
   "cell_type": "code",
   "execution_count": 2,
   "metadata": {},
   "outputs": [],
   "source": [
    "import numpy as np\n",
    "import pandas as pd"
   ]
  },
  {
   "cell_type": "markdown",
   "metadata": {},
   "source": [
    "# pandas operations"
   ]
  },
  {
   "cell_type": "code",
   "execution_count": 3,
   "metadata": {},
   "outputs": [],
   "source": [
    "mass = pd.Series([0.33, 4.87, 5.97, 0.642, 1898, 568, 86.8, 102, 0.0146], \n",
    "                 index=['Mercury', 'Venus', 'Earth', 'Mars', 'Jupiter', 'Saturn', 'Uranus', 'Neptune', 'Pluto']) \n",
    "#defining a series"
   ]
  },
  {
   "cell_type": "code",
   "execution_count": 4,
   "metadata": {},
   "outputs": [
    {
     "name": "stdout",
     "output_type": "stream",
     "text": [
      "Mercury       0.3300\n",
      "Venus         4.8700\n",
      "Earth         5.9700\n",
      "Mars          0.6420\n",
      "Jupiter    1898.0000\n",
      "Saturn      568.0000\n",
      "Uranus       86.8000\n",
      "Neptune     102.0000\n",
      "Pluto         0.0146\n",
      "dtype: float64\n"
     ]
    }
   ],
   "source": [
    "print(mass)"
   ]
  },
  {
   "cell_type": "code",
   "execution_count": 5,
   "metadata": {},
   "outputs": [
    {
     "data": {
      "text/plain": [
       "4.87"
      ]
     },
     "execution_count": 5,
     "metadata": {},
     "output_type": "execute_result"
    }
   ],
   "source": [
    "mass[1]"
   ]
  },
  {
   "cell_type": "code",
   "execution_count": 6,
   "metadata": {},
   "outputs": [
    {
     "data": {
      "text/plain": [
       "4.87"
      ]
     },
     "execution_count": 6,
     "metadata": {},
     "output_type": "execute_result"
    }
   ],
   "source": [
    "mass.iloc[1]"
   ]
  },
  {
   "cell_type": "code",
   "execution_count": 7,
   "metadata": {},
   "outputs": [
    {
     "data": {
      "text/plain": [
       "5.97"
      ]
     },
     "execution_count": 7,
     "metadata": {},
     "output_type": "execute_result"
    }
   ],
   "source": [
    "mass.loc['Earth']"
   ]
  },
  {
   "cell_type": "code",
   "execution_count": 8,
   "metadata": {},
   "outputs": [
    {
     "data": {
      "text/plain": [
       "5.97"
      ]
     },
     "execution_count": 8,
     "metadata": {},
     "output_type": "execute_result"
    }
   ],
   "source": [
    "mass['Earth']"
   ]
  },
  {
   "cell_type": "code",
   "execution_count": 9,
   "metadata": {},
   "outputs": [
    {
     "data": {
      "text/plain": [
       "Earth         5.970\n",
       "Mars          0.642\n",
       "Jupiter    1898.000\n",
       "dtype: float64"
      ]
     },
     "execution_count": 9,
     "metadata": {},
     "output_type": "execute_result"
    }
   ],
   "source": [
    "mass['Earth': 'Jupiter']"
   ]
  },
  {
   "cell_type": "code",
   "execution_count": 10,
   "metadata": {},
   "outputs": [
    {
     "data": {
      "text/plain": [
       "Earth         5.970\n",
       "Mars          0.642\n",
       "Jupiter    1898.000\n",
       "dtype: float64"
      ]
     },
     "execution_count": 10,
     "metadata": {},
     "output_type": "execute_result"
    }
   ],
   "source": [
    "mass[2:5]"
   ]
  },
  {
   "cell_type": "code",
   "execution_count": 11,
   "metadata": {},
   "outputs": [
    {
     "data": {
      "text/plain": [
       "Mercury    False\n",
       "Venus      False\n",
       "Earth      False\n",
       "Mars       False\n",
       "Jupiter     True\n",
       "Saturn      True\n",
       "Uranus     False\n",
       "Neptune     True\n",
       "Pluto      False\n",
       "dtype: bool"
      ]
     },
     "execution_count": 11,
     "metadata": {},
     "output_type": "execute_result"
    }
   ],
   "source": [
    "mass > 100 #gives boolean values for values greater than 100"
   ]
  },
  {
   "cell_type": "code",
   "execution_count": 12,
   "metadata": {},
   "outputs": [
    {
     "data": {
      "text/plain": [
       "Jupiter    1898.0\n",
       "Saturn      568.0\n",
       "Neptune     102.0\n",
       "dtype: float64"
      ]
     },
     "execution_count": 12,
     "metadata": {},
     "output_type": "execute_result"
    }
   ],
   "source": [
    "mass[mass > 100] #gives values greater than 100"
   ]
  },
  {
   "cell_type": "code",
   "execution_count": 13,
   "metadata": {},
   "outputs": [
    {
     "data": {
      "text/plain": [
       "Saturn     568.0\n",
       "Neptune    102.0\n",
       "dtype: float64"
      ]
     },
     "execution_count": 13,
     "metadata": {},
     "output_type": "execute_result"
    }
   ],
   "source": [
    "mass[(mass > 100) & (mass < 600)] #values greater than 100 and less than 600"
   ]
  },
  {
   "cell_type": "code",
   "execution_count": 14,
   "metadata": {},
   "outputs": [
    {
     "data": {
      "text/plain": [
       "Mercury       0.6600\n",
       "Venus         9.7400\n",
       "Earth        11.9400\n",
       "Mars          1.2840\n",
       "Jupiter    3796.0000\n",
       "Saturn     1136.0000\n",
       "Uranus      173.6000\n",
       "Neptune     204.0000\n",
       "Pluto         0.0292\n",
       "dtype: float64"
      ]
     },
     "execution_count": 14,
     "metadata": {},
     "output_type": "execute_result"
    }
   ],
   "source": [
    "mass*2 #multiply each value by 2 "
   ]
  },
  {
   "cell_type": "code",
   "execution_count": 15,
   "metadata": {},
   "outputs": [
    {
     "data": {
      "text/plain": [
       "Mercury      0.03300\n",
       "Venus        0.48700\n",
       "Earth        0.59700\n",
       "Mars         0.06420\n",
       "Jupiter    189.80000\n",
       "Saturn      56.80000\n",
       "Uranus       8.68000\n",
       "Neptune     10.20000\n",
       "Pluto        0.00146\n",
       "dtype: float64"
      ]
     },
     "execution_count": 15,
     "metadata": {},
     "output_type": "execute_result"
    }
   ],
   "source": [
    "mass/10 #divide each value by 10"
   ]
  },
  {
   "cell_type": "code",
   "execution_count": 16,
   "metadata": {},
   "outputs": [
    {
     "data": {
      "text/plain": [
       "296.29184444444445"
      ]
     },
     "execution_count": 16,
     "metadata": {},
     "output_type": "execute_result"
    }
   ],
   "source": [
    "np.mean(mass) #mean of all the values"
   ]
  },
  {
   "cell_type": "code",
   "execution_count": 17,
   "metadata": {},
   "outputs": [
    {
     "data": {
      "text/plain": [
       "0.0146"
      ]
     },
     "execution_count": 17,
     "metadata": {},
     "output_type": "execute_result"
    }
   ],
   "source": [
    "np.amin(mass) #minimum of all the values"
   ]
  },
  {
   "cell_type": "code",
   "execution_count": 18,
   "metadata": {},
   "outputs": [
    {
     "data": {
      "text/plain": [
       "1898.0"
      ]
     },
     "execution_count": 18,
     "metadata": {},
     "output_type": "execute_result"
    }
   ],
   "source": [
    "np.amax(mass) #maximum of all the values"
   ]
  },
  {
   "cell_type": "code",
   "execution_count": 19,
   "metadata": {},
   "outputs": [
    {
     "data": {
      "text/plain": [
       "5.97"
      ]
     },
     "execution_count": 19,
     "metadata": {},
     "output_type": "execute_result"
    }
   ],
   "source": [
    "np.median(mass) #median of all the values"
   ]
  },
  {
   "cell_type": "code",
   "execution_count": 20,
   "metadata": {},
   "outputs": [
    {
     "data": {
      "text/plain": [
       "Mercury       0.6600\n",
       "Venus         9.7400\n",
       "Earth        11.9400\n",
       "Mars          1.2840\n",
       "Jupiter    3796.0000\n",
       "Saturn     1136.0000\n",
       "Uranus      173.6000\n",
       "Neptune     204.0000\n",
       "Pluto         0.0292\n",
       "dtype: float64"
      ]
     },
     "execution_count": 20,
     "metadata": {},
     "output_type": "execute_result"
    }
   ],
   "source": [
    "mass + mass"
   ]
  },
  {
   "cell_type": "code",
   "execution_count": 21,
   "metadata": {},
   "outputs": [
    {
     "data": {
      "text/plain": [
       "Mercury    0.0\n",
       "Venus      0.0\n",
       "Earth      0.0\n",
       "Mars       0.0\n",
       "Jupiter    0.0\n",
       "Saturn     0.0\n",
       "Uranus     0.0\n",
       "Neptune    0.0\n",
       "Pluto      0.0\n",
       "dtype: float64"
      ]
     },
     "execution_count": 21,
     "metadata": {},
     "output_type": "execute_result"
    }
   ],
   "source": [
    "mass-mass"
   ]
  },
  {
   "cell_type": "code",
   "execution_count": 22,
   "metadata": {},
   "outputs": [],
   "source": [
    "mass['Moon'] = 0.7346 #adding new element "
   ]
  },
  {
   "cell_type": "code",
   "execution_count": 24,
   "metadata": {},
   "outputs": [
    {
     "data": {
      "text/plain": [
       "Mercury       0.3300\n",
       "Venus         4.8700\n",
       "Earth         5.9700\n",
       "Mars          0.6420\n",
       "Jupiter    1898.0000\n",
       "Saturn      568.0000\n",
       "Uranus       86.8000\n",
       "Neptune     102.0000\n",
       "Moon          0.7346\n",
       "dtype: float64"
      ]
     },
     "execution_count": 24,
     "metadata": {},
     "output_type": "execute_result"
    }
   ],
   "source": [
    "mass.drop(['Pluto']) #removing one element "
   ]
  },
  {
   "cell_type": "markdown",
   "metadata": {},
   "source": [
    "### Task 1 - Collect numbers for the diameters of these planets (heavenly bodies) and store it as a Series object. Then given these two Series objects mass and diameter, compute the density of each planet."
   ]
  },
  {
   "cell_type": "code",
   "execution_count": 25,
   "metadata": {},
   "outputs": [],
   "source": [
    "dia = pd.Series([4879, 12104, 12756, 3475, 6792, 142984, 120536, 51118, 49528, 2370], \n",
    "                     index=['Mercury', 'Venus', 'Earth', 'Moon', 'Mars', 'Jupiter', 'Saturn', 'Uranus', 'Neptune', 'Pluto'])"
   ]
  },
  {
   "cell_type": "code",
   "execution_count": 26,
   "metadata": {},
   "outputs": [
    {
     "name": "stderr",
     "output_type": "stream",
     "text": [
      "C:\\Users\\Varchasa Aggarwal\\AppData\\Local\\Programs\\Python\\Python36\\Lib\\site-packages\\ipykernel_launcher.py:1: DeprecationWarning: The default dtype for empty Series will be 'object' instead of 'float64' in a future version. Specify a dtype explicitly to silence this warning.\n",
      "  \"\"\"Entry point for launching an IPython kernel.\n"
     ]
    }
   ],
   "source": [
    "density = pd.Series([])"
   ]
  },
  {
   "cell_type": "code",
   "execution_count": 27,
   "metadata": {},
   "outputs": [
    {
     "name": "stdout",
     "output_type": "stream",
     "text": [
      "Series([], dtype: float64)\n"
     ]
    }
   ],
   "source": [
    "print(density)"
   ]
  },
  {
   "cell_type": "code",
   "execution_count": 28,
   "metadata": {},
   "outputs": [
    {
     "data": {
      "text/plain": [
       "Mercury       0.3300\n",
       "Venus         4.8700\n",
       "Earth         5.9700\n",
       "Mars          0.6420\n",
       "Jupiter    1898.0000\n",
       "Saturn      568.0000\n",
       "Uranus       86.8000\n",
       "Neptune     102.0000\n",
       "Pluto         0.0146\n",
       "Moon          0.7346\n",
       "dtype: float64"
      ]
     },
     "execution_count": 28,
     "metadata": {},
     "output_type": "execute_result"
    }
   ],
   "source": [
    "mass"
   ]
  },
  {
   "cell_type": "code",
   "execution_count": 29,
   "metadata": {},
   "outputs": [
    {
     "data": {
      "text/plain": [
       "Mercury      4879\n",
       "Venus       12104\n",
       "Earth       12756\n",
       "Moon         3475\n",
       "Mars         6792\n",
       "Jupiter    142984\n",
       "Saturn     120536\n",
       "Uranus      51118\n",
       "Neptune     49528\n",
       "Pluto        2370\n",
       "dtype: int64"
      ]
     },
     "execution_count": 29,
     "metadata": {},
     "output_type": "execute_result"
    }
   ],
   "source": [
    "dia "
   ]
  },
  {
   "cell_type": "code",
   "execution_count": 38,
   "metadata": {},
   "outputs": [],
   "source": [
    "for planet in mass.index:\n",
    "    density[planet] = mass[planet]/(np.pi*dia[planet]*dia[planet]*dia[planet]/6)"
   ]
  },
  {
   "cell_type": "code",
   "execution_count": 39,
   "metadata": {},
   "outputs": [
    {
     "name": "stdout",
     "output_type": "stream",
     "text": [
      "Earth      5.493286e-12\n",
      "Jupiter    1.240039e-12\n",
      "Mars       3.913302e-12\n",
      "Mercury    5.426538e-12\n",
      "Moon       3.343396e-11\n",
      "Neptune    1.603427e-12\n",
      "Pluto      2.094639e-12\n",
      "Saturn     6.194402e-13\n",
      "Uranus     1.241079e-12\n",
      "Venus      5.244977e-12\n",
      "dtype: float64\n"
     ]
    }
   ],
   "source": [
    "print(density)"
   ]
  },
  {
   "cell_type": "code",
   "execution_count": 35,
   "metadata": {},
   "outputs": [],
   "source": [
    "density = mass / (np.pi * np.power(dia, 3) / 6) "
   ]
  },
  {
   "cell_type": "code",
   "execution_count": 36,
   "metadata": {},
   "outputs": [
    {
     "data": {
      "text/plain": [
       "Earth      5.493286e-12\n",
       "Jupiter    1.240039e-12\n",
       "Mars       3.913302e-12\n",
       "Mercury    5.426538e-12\n",
       "Moon       3.343396e-11\n",
       "Neptune    1.603427e-12\n",
       "Pluto      2.094639e-12\n",
       "Saturn     6.194402e-13\n",
       "Uranus     1.241079e-12\n",
       "Venus      5.244977e-12\n",
       "dtype: float64"
      ]
     },
     "execution_count": 36,
     "metadata": {},
     "output_type": "execute_result"
    }
   ],
   "source": [
    "density"
   ]
  },
  {
   "cell_type": "code",
   "execution_count": 40,
   "metadata": {},
   "outputs": [],
   "source": [
    "mass['planetX'] = 6 "
   ]
  },
  {
   "cell_type": "code",
   "execution_count": 42,
   "metadata": {},
   "outputs": [
    {
     "data": {
      "text/plain": [
       "Earth      5.493286e-12\n",
       "Jupiter    1.240039e-12\n",
       "Mars       3.913302e-12\n",
       "Mercury    5.426538e-12\n",
       "Moon       3.343396e-11\n",
       "Neptune    1.603427e-12\n",
       "Pluto      2.094639e-12\n",
       "Saturn     6.194402e-13\n",
       "Uranus     1.241079e-12\n",
       "Venus      5.244977e-12\n",
       "planetX             NaN\n",
       "dtype: float64"
      ]
     },
     "execution_count": 42,
     "metadata": {},
     "output_type": "execute_result"
    }
   ],
   "source": [
    "density = mass/(np.pi * np.power(dia,3)/6)\n",
    "density"
   ]
  },
  {
   "cell_type": "code",
   "execution_count": null,
   "metadata": {},
   "outputs": [],
   "source": []
  }
 ],
 "metadata": {
  "kernelspec": {
   "display_name": "Python 3",
   "language": "python",
   "name": "python3"
  },
  "language_info": {
   "codemirror_mode": {
    "name": "ipython",
    "version": 3
   },
   "file_extension": ".py",
   "mimetype": "text/x-python",
   "name": "python",
   "nbconvert_exporter": "python",
   "pygments_lexer": "ipython3",
   "version": "3.6.4"
  }
 },
 "nbformat": 4,
 "nbformat_minor": 4
}
